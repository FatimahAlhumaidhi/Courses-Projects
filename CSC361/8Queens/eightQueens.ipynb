{
 "cells": [
  {
   "cell_type": "code",
   "execution_count": 1,
   "metadata": {},
   "outputs": [
    {
     "name": "stdout",
     "output_type": "stream",
     "text": [
      "[8, 3, 6, 7, 3, 8, 3, 5]\n"
     ]
    }
   ],
   "source": [
    "import random\n",
    "\n",
    "def initialize(N=8): #random initialization\n",
    "    return [random.randint(1, N) for _ in range(N)]\n",
    "\n",
    "#test\n",
    "queens = initialize()\n",
    "print(queens)"
   ]
  },
  {
   "cell_type": "code",
   "execution_count": 3,
   "metadata": {},
   "outputs": [
    {
     "name": "stdout",
     "output_type": "stream",
     "text": [
      "6\n"
     ]
    }
   ],
   "source": [
    "def heuristic(state, N=8): # attacking queens heuristic function\n",
    "    cost = 0\n",
    "    for i in range(N):\n",
    "        for j in range(i+1, N):\n",
    "            if state[i] == state[j] or abs(j-i) == abs(state[j]-state[i]):\n",
    "                cost +=1\n",
    "    return cost\n",
    "\n",
    "#test\n",
    "cost = heuristic(queens)\n",
    "print(cost)"
   ]
  },
  {
   "cell_type": "code",
   "execution_count": 4,
   "metadata": {},
   "outputs": [
    {
     "name": "stdout",
     "output_type": "stream",
     "text": [
      "-  -  -  -  -  -  -  -  \n",
      "-  -  -  -  -  -  -  -  \n",
      "-  Q  -  -  Q  -  Q  -  \n",
      "-  -  -  -  -  -  -  -  \n",
      "-  -  -  -  -  -  -  Q  \n",
      "-  -  Q  -  -  -  -  -  \n",
      "-  -  -  Q  -  -  -  -  \n",
      "Q  -  -  -  -  Q  -  -  \n"
     ]
    }
   ],
   "source": [
    "def printTable(state, N=8):\n",
    "    table = [['-' for _ in range(N)] for _ in range(N)]\n",
    "    for column, row in enumerate(state):\n",
    "        table[row-1][column] = 'Q'\n",
    "    for i in range(N):\n",
    "        for j in range(N):\n",
    "            print(table[i][j], end='  ')\n",
    "        print()\n",
    "\n",
    "#test\n",
    "printTable(queens)"
   ]
  },
  {
   "cell_type": "code",
   "execution_count": 5,
   "metadata": {},
   "outputs": [
    {
     "name": "stdout",
     "output_type": "stream",
     "text": [
      "56\n"
     ]
    }
   ],
   "source": [
    "def successors(state, N=8): # returns all successors\n",
    "    Successors = []\n",
    "    for i in range(N):\n",
    "        for j in range(1, N+1):\n",
    "            newState = state.copy()\n",
    "            newState[i] = j if newState[i] != j else 0\n",
    "            if 1 <= newState[i] <= N:\n",
    "                Successors.append(newState)\n",
    "    return Successors\n",
    "\n",
    "#test\n",
    "suc = successors(queens)\n",
    "print(len(suc))"
   ]
  },
  {
   "cell_type": "markdown",
   "metadata": {},
   "source": [
    "# Hill Climbing"
   ]
  },
  {
   "cell_type": "code",
   "execution_count": 9,
   "metadata": {},
   "outputs": [
    {
     "name": "stdout",
     "output_type": "stream",
     "text": [
      "False\n",
      "-  Q  -  -  -  -  -  -  \n",
      "-  -  -  -  -  -  -  -  \n",
      "-  -  -  -  Q  -  Q  -  \n",
      "-  -  Q  -  -  -  -  -  \n",
      "-  -  -  -  -  -  -  Q  \n",
      "-  -  -  -  -  Q  -  -  \n",
      "-  -  -  Q  -  -  -  -  \n",
      "Q  -  -  -  -  -  -  -  \n"
     ]
    }
   ],
   "source": [
    "def steepestAscent(initState):\n",
    "\n",
    "    if heuristic(initState) == 0:\n",
    "        return initState, True\n",
    "\n",
    "    def minsuccessor(state):\n",
    "        states = successors(state)\n",
    "        statesWithCost = [(state, heuristic(state)) for state in states]\n",
    "        minval = min(statesWithCost, key = lambda x : x[1])[1]\n",
    "        minlist = [x[0] for x in statesWithCost if x[1] == minval]\n",
    "        return random.choice(minlist)\n",
    "    \n",
    "    prevState = initState\n",
    "    while True:\n",
    "        state = minsuccessor(prevState)\n",
    "        if heuristic(state) >= heuristic(prevState):\n",
    "            return prevState, False\n",
    "        elif heuristic(state) == 0:\n",
    "            return state, True\n",
    "        prevState = state\n",
    "\n",
    "#test\n",
    "solution = steepestAscent(queens)\n",
    "print(solution[1])\n",
    "printTable(solution[0])"
   ]
  },
  {
   "cell_type": "code",
   "execution_count": 6,
   "metadata": {},
   "outputs": [
    {
     "name": "stdout",
     "output_type": "stream",
     "text": [
      "False\n",
      "-  -  Q  -  -  -  -  -  \n",
      "-  -  -  -  -  -  Q  -  \n",
      "-  -  -  -  -  -  -  -  \n",
      "-  -  -  -  -  Q  -  -  \n",
      "Q  -  -  Q  -  -  -  -  \n",
      "-  -  -  -  Q  -  -  -  \n",
      "-  -  -  -  -  -  -  -  \n",
      "-  Q  -  -  -  -  -  Q  \n"
     ]
    }
   ],
   "source": [
    "def firstChoice(initState):\n",
    "  \n",
    "    if heuristic(initState) == 0:\n",
    "        return initState, True\n",
    "\n",
    "    def firstsuccessor(state):\n",
    "        states = successors(state)\n",
    "        for childstate in states:\n",
    "            if heuristic(childstate) <= heuristic(state):\n",
    "                return childstate\n",
    "        return states[0]\n",
    "    \n",
    "    prevState = initState\n",
    "    while True:\n",
    "        state = firstsuccessor(prevState)\n",
    "        if heuristic(state) >= heuristic(prevState):\n",
    "            return prevState, False\n",
    "        elif heuristic(state) == 0:\n",
    "            return state, True\n",
    "        prevState = state\n",
    "\n",
    "#test\n",
    "solution = firstChoice(queens)\n",
    "print(solution[1])\n",
    "printTable(solution[0])"
   ]
  },
  {
   "cell_type": "code",
   "execution_count": 7,
   "metadata": {},
   "outputs": [
    {
     "name": "stdout",
     "output_type": "stream",
     "text": [
      "-  -  -  -  Q  -  -  -  \n",
      "-  -  Q  -  -  -  -  -  \n",
      "Q  -  -  -  -  -  -  -  \n",
      "-  -  -  -  -  -  Q  -  \n",
      "-  Q  -  -  -  -  -  -  \n",
      "-  -  -  -  -  -  -  Q  \n",
      "-  -  -  -  -  Q  -  -  \n",
      "-  -  -  Q  -  -  -  -  \n"
     ]
    }
   ],
   "source": [
    "def randomRestart(initState):\n",
    "    while True:\n",
    "        solution = steepestAscent(initState)\n",
    "        if solution[1]:\n",
    "            return solution[0]\n",
    "        initState = initialize()\n",
    "\n",
    "#test\n",
    "solution = randomRestart(queens)\n",
    "printTable(solution)"
   ]
  },
  {
   "cell_type": "markdown",
   "metadata": {},
   "source": [
    "# Simulated Anealing"
   ]
  },
  {
   "cell_type": "code",
   "execution_count": 8,
   "metadata": {},
   "outputs": [
    {
     "name": "stdout",
     "output_type": "stream",
     "text": [
      "-  -  -  -  Q  -  -  -  \n",
      "-  -  -  -  -  -  Q  -  \n",
      "Q  -  -  -  -  -  -  -  \n",
      "-  -  Q  -  -  -  -  -  \n",
      "-  -  -  -  -  -  -  Q  \n",
      "-  -  -  -  -  Q  -  -  \n",
      "-  -  -  Q  -  -  -  -  \n",
      "-  Q  -  -  -  -  -  -  \n"
     ]
    }
   ],
   "source": [
    "from math import exp\n",
    "def simAnnealing(initState):\n",
    "\n",
    "    def randomSuccessor(state):\n",
    "        states = successors(state)\n",
    "        return random.choice(states)\n",
    "    \n",
    "    current = initState\n",
    "    Temperatue = 100\n",
    "    cool = 0.98\n",
    "    while True:\n",
    "        Temperatue *= cool\n",
    "        if heuristic(current) == 0:\n",
    "            return current\n",
    "        nextState = randomSuccessor(current)\n",
    "        deltaE = heuristic(nextState) - heuristic(current)\n",
    "        if deltaE < 0:\n",
    "            current = nextState\n",
    "        else:\n",
    "            threshhold = exp(-deltaE/Temperatue)\n",
    "            prob = random.random()\n",
    "            if prob < threshhold:\n",
    "                current = nextState\n",
    "            if heuristic(current) == 0:\n",
    "              return current\n",
    "\n",
    "#test\n",
    "solution = simAnnealing(queens)\n",
    "printTable(solution)"
   ]
  },
  {
   "cell_type": "code",
   "execution_count": 9,
   "metadata": {},
   "outputs": [
    {
     "name": "stdout",
     "output_type": "stream",
     "text": [
      "Initial State:\n",
      "-  -  -  -  Q  -  -  -  \n",
      "-  -  -  -  -  -  -  -  \n",
      "-  -  -  -  -  -  -  -  \n",
      "Q  -  Q  -  -  Q  Q  -  \n",
      "-  Q  -  Q  -  -  -  -  \n",
      "-  -  -  -  -  -  -  -  \n",
      "-  -  -  -  -  -  -  -  \n",
      "-  -  -  -  -  -  -  Q  \n",
      "cost: 10\n",
      "Steepest Ascent stuck in local minima: \n",
      "-  -  -  -  Q  -  -  -  \n",
      "-  -  Q  -  -  -  -  -  \n",
      "Q  -  -  -  -  -  -  -  \n",
      "-  -  -  -  -  Q  Q  -  \n",
      "-  -  -  Q  -  -  -  -  \n",
      "-  Q  -  -  -  -  -  -  \n",
      "-  -  -  -  -  -  -  -  \n",
      "-  -  -  -  -  -  -  Q  \n",
      "cost: 1\n",
      "First Choice stuck in local minima: \n",
      "Q  -  -  -  Q  -  -  -  \n",
      "-  -  -  -  -  -  -  -  \n",
      "-  -  -  -  -  -  -  -  \n",
      "-  -  Q  -  -  Q  Q  -  \n",
      "-  Q  -  Q  -  -  -  -  \n",
      "-  -  -  -  -  -  -  -  \n",
      "-  -  -  -  -  -  -  -  \n",
      "-  -  -  -  -  -  -  Q  \n",
      "cost: 8\n",
      "Random Restart solution: \n",
      "-  -  -  Q  -  -  -  -  \n",
      "-  Q  -  -  -  -  -  -  \n",
      "-  -  -  -  -  -  -  Q  \n",
      "-  -  -  -  -  Q  -  -  \n",
      "Q  -  -  -  -  -  -  -  \n",
      "-  -  Q  -  -  -  -  -  \n",
      "-  -  -  -  Q  -  -  -  \n",
      "-  -  -  -  -  -  Q  -  \n",
      "cost: 0\n",
      "simulated Annealing solution: \n",
      "-  -  -  Q  -  -  -  -  \n",
      "-  -  -  -  -  -  -  Q  \n",
      "Q  -  -  -  -  -  -  -  \n",
      "-  -  Q  -  -  -  -  -  \n",
      "-  -  -  -  -  Q  -  -  \n",
      "-  Q  -  -  -  -  -  -  \n",
      "-  -  -  -  -  -  Q  -  \n",
      "-  -  -  -  Q  -  -  -  \n",
      "cost: 0\n"
     ]
    }
   ],
   "source": [
    "def main():\n",
    "    initState = initialize()\n",
    "    print('Initial State:')\n",
    "    printTable(initState)\n",
    "    print(f'cost: {heuristic(initState)}')\n",
    "\n",
    "    solution = steepestAscent(initState)\n",
    "    if solution[1]:\n",
    "        print('Steepest Ascent solution: ')\n",
    "        printTable(solution[0])\n",
    "        print(f'cost: {heuristic(solution[0])}')\n",
    "    else:\n",
    "        print('Steepest Ascent stuck in local minima: ')\n",
    "        printTable(solution[0])\n",
    "        print(f'cost: {heuristic(solution[0])}')\n",
    "\n",
    "    solution = firstChoice(initState)\n",
    "    if solution[1]:\n",
    "        print('First Choice solution: ')\n",
    "        printTable(solution[0])\n",
    "        print(f'cost: {heuristic(solution[0])}')\n",
    "    else:\n",
    "        print('First Choice stuck in local minima: ')\n",
    "        printTable(solution[0])\n",
    "        print(f'cost: {heuristic(solution[0])}')\n",
    "\n",
    "    solution = randomRestart(initState)\n",
    "    print('Random Restart solution: ')\n",
    "    printTable(solution)\n",
    "    print(f'cost: {heuristic(solution)}')\n",
    "\n",
    "    solution = simAnnealing(initState)\n",
    "    print('simulated Annealing solution: ')\n",
    "    printTable(solution)\n",
    "    print(f'cost: {heuristic(solution)}')\n",
    "\n",
    "if __name__ == '__main__':\n",
    "    main()"
   ]
  }
 ],
 "metadata": {
  "kernelspec": {
   "display_name": "Python 3.9.12 ('base')",
   "language": "python",
   "name": "python3"
  },
  "language_info": {
   "codemirror_mode": {
    "name": "ipython",
    "version": 3
   },
   "file_extension": ".py",
   "mimetype": "text/x-python",
   "name": "python",
   "nbconvert_exporter": "python",
   "pygments_lexer": "ipython3",
   "version": "3.9.12"
  },
  "orig_nbformat": 4,
  "vscode": {
   "interpreter": {
    "hash": "f9b01f5dcf6eb49e98361bda3ea635f308f2cf3e384d6b27fe94cf5889827908"
   }
  }
 },
 "nbformat": 4,
 "nbformat_minor": 2
}
